{
 "cells": [
  {
   "cell_type": "markdown",
   "metadata": {},
   "source": [
    "# Dataset Stuff"
   ]
  },
  {
   "cell_type": "markdown",
   "metadata": {},
   "source": [
    "### Load Dataset"
   ]
  },
  {
   "cell_type": "code",
   "execution_count": 2,
   "metadata": {},
   "outputs": [
    {
     "name": "stderr",
     "output_type": "stream",
     "text": [
      "c:\\Users\\Quang\\AppData\\Local\\Programs\\Python\\Python311\\Lib\\site-packages\\tqdm\\auto.py:21: TqdmWarning: IProgress not found. Please update jupyter and ipywidgets. See https://ipywidgets.readthedocs.io/en/stable/user_install.html\n",
      "  from .autonotebook import tqdm as notebook_tqdm\n"
     ]
    }
   ],
   "source": [
    "from langchain.document_loaders import HuggingFaceDatasetLoader\n",
    "\n",
    "# ds = load_dataset(\"neural-bridge/rag-dataset-12000\")\n",
    "\n",
    "# Specify the dataset name and the column containing the content\n",
    "dataset_name = \"neural-bridge/rag-dataset-12000\"\n",
    "page_content_column = \"context\"  # or any other column you're interested in\n",
    "\n",
    "# Create a loader instance\n",
    "loader = HuggingFaceDatasetLoader(dataset_name, page_content_column)\n",
    "\n",
    "# Load the data\n",
    "data = loader.load()"
   ]
  },
  {
   "cell_type": "code",
   "execution_count": 1,
   "metadata": {},
   "outputs": [
    {
     "name": "stdout",
     "output_type": "stream",
     "text": [
      "1.26.4\n"
     ]
    }
   ],
   "source": [
    "import numpy as np\n",
    "print(np.__version__)"
   ]
  },
  {
   "cell_type": "markdown",
   "metadata": {},
   "source": [
    "### Try to print it"
   ]
  },
  {
   "cell_type": "code",
   "execution_count": 3,
   "metadata": {},
   "outputs": [
    {
     "data": {
      "text/plain": [
       "[Document(metadata={'question': 'What is the Berry Export Summary 2028 and what is its purpose?', 'answer': 'The Berry Export Summary 2028 is a dedicated export plan for the Australian strawberry, raspberry, and blackberry industries. It maps the sectors’ current position, where they want to be, high-opportunity markets, and next steps. The purpose of this plan is to grow their global presence over the next 10 years.'}, page_content='\"Caption: Tasmanian berry grower Nic Hansen showing Macau chef Antimo Merone around his property as part of export engagement activities.\\\\nTHE RISE and rise of the Australian strawberry, raspberry and blackberry industries has seen the sectors redouble their international trade focus, with the release of a dedicated export plan to grow their global presence over the next 10 years.\\\\nDriven by significant grower input, the Berry Export Summary 2028 maps the sectors\\\\u2019 current position, where they want to be, high-opportunity markets and next steps.\\\\nHort Innovation trade manager Jenny Van de Meeberg said the value and volume of raspberry and blackberry exports rose by 100 per cent between 2016 and 2017. She said the Australian strawberry industry experienced similar success with an almost 30 per cent rise in export volume and a 26 per cent rise in value to $32.6M over the same period.\\\\n\\\\u201cAustralian berry sectors are in a firm position at the moment,\\\\u201d she said. \\\\u201cProduction, adoption of protected substrate cropping, improved genetics and an expanding geographic footprint have all helped put Aussie berries on a positive trajectory.\\\\n\\\\u201cWe are seeing a real transition point. Broad industry interest and a strong commercial appetite for export market development combined with the potential to capitalise on existing trade agreements and build new trade partnerships has created this perfect environment for growth.\\\\u201d\\\\nHigh-income countries across Europe, North America and Northern Asia have been identified as having a palate for Australian grown berries with more than 4244 tonnes of fresh berries exported in the last financial year alone.\\\\nThe strategy identified the best short-term prospect markets for the Australian blackberry and raspberry industry as Hong Kong, Singapore, The United Arab Emirates and Canada. The strongest short-term trade options identified for the strawberry sector were Thailand, Malaysia, New Zealand and Macau.\\\\nThe strategy focuses heavily on growing the existing strawberry export market from 4 per cent to at least 8 per cent of national production by volume, in markets with a capacity and willingness to pay a premium for quality fruit. For raspberries and blackberries, the sectors aim to achieve a 5 per cent boost in exports assessed by volume across identified markets by 2021.\\\\nTasmanian raspberry exporter Nic Hansen said Australia offers some of the sweetest and most attractive berries in the world, and this combined with our stringent food safety standards across all stages of the supply chain puts growers in a solid position.\\\\n\\\\u201cWe have a great product, we are hungry to expand trade and now with this new plan in place, we have a clear roadmap towards driving growth,\\\\u201d Mr Hansen said.\\\\nHe said it is exciting to see new export market prospects for raspberries: \\\\u201cThe more options we have for export the better. Now we just have to get on with the job of ensuring industry has all the tools it needs, such as supporting data and relationship building opportunities, to thrive in new markets.\\\\u201d\\\\nThis project was commissioned by Hort Innovation, and developed by market analysts and research consultants Auspex Strategic Advisory and AgInfinity. Hort Innovation will work now with berry sectors to determine levy-funded activities to support trade.\\\\nSee a summary of the strategy on the Hort Innovation website.\\\\nFor more information on the berry industries, refer to the Horticulture Statistics Handbook and the Strategic Investment Plans for strawberries, raspberries and blackberries. Growers seeking more information should email trade@horticulture.com.au\"'),\n",
       " Document(metadata={'question': 'What are some of the benefits reported from having access to Self-supply water sources?', 'answer': 'Benefits reported from having access to Self-supply water sources include convenience, less time spent for fetching water and access to more and better quality water. In some areas, Self-supply sources offer important added values such as water for productive use, income generation, family safety and improved food security.'}, page_content='\"RWSN Collaborations\\\\nSouthern Africa Self-supply Study Review of Self-supply and its support services in African countries\\\\nA lady in Zimbabwe proudly shows off her onions - watered from her self-supply well\\\\n\\\\u00a9 2015 Andr\\\\u00e9 Olschewski \\\\u2022 Skat\\\\nProject starts: 2015\\\\nProject finished: 2016\\\\nCollaborators & Partners:.\\\\nProject Description\\\\nUNICEF and Skat have collaborated on a).\\\\nPerspectives\\\\nReach and benefits:\\\\n- Self-supply is practised by millions of rural households in Sub-Sahara Africa as well as in Europe, USA and other areas of the world.\\\\n- Benefits reported from having access to Self-supply water sources include convenience, less time spent for fetching water and access to more and better quality water. In some areas, Self-supply sources offer important added values such as water for productive use, income generation, family safety and improved food security.\\\\n- Sustainability of services from Self-supply is high as there is strong ownership by people investing in own sources.\\\\n- As Self-supply sources are shared sources, many people, including poor and vulnerable households, benefit from investments in Self-supply, often at no costs. This means that Self-supply can be effective in reaching the hard-to-reach.\\\\n- For millions of people in rural areas of Africa, supported Self-supply will be the most cost effective service delivery model to provide access to safe water. This also includes those parts of the population which actually have poor access as they e.g. cannot afford water from communal supplies.\\\\n- However, in areas where external support for Self-supply is lacking, only marginal improvements can usually be achieved, and the quality of services is lower than in areas where a dedicated support effort was made.\\\\nCosts and business model for supported Self-supply\\\\n- In many rural contexts, supported Self-supply is the most cost effective approach for water service delivery. However, as it is not applicable in all contexts, a blended approach combining communal water supply and supported Self-supply models should be followed.\\\\n- Based on a Life Cycle Cost (LCC) analysis of different service delivery approaches, the LCC for communal supplies are about 40 US$/capita served in the study countries, whereas the LCC for supported Self-supply is about 10 U$/capita.\\\\n- In sparsely populated areas, communal supplies (e.g. handpumps) are even more costly (up to 100 U$/capita served) as only few people can be served with one additional unit. Serving all rural people with communal supply is therefore not financially viable.\\\\n- Considering the applicability of Self-supply technologies, in Zambia and Zimbabwe, the cost saving of following a blended approach using both communal supplies and supported Self-supply is almost 50% of the total LCC for reaching 100% of the population by 2030. These cost savings are equivalent to more than 330 million US$ in Zambia and more than 260 million US$ in Zimbabwe.\\\\nSupport services needed\\\\n- Supported Self-supply is a service delivery model putting support services in place to improve Self-supply, so it is not about a particular technology.\\\\n- Supported Self-supply is aligned with the Human Rights to Water and Sanitation, which allows a progressive realisation of the universal access to safe water. However, supported Self-supply is not a way to exempt government from its duties: Government has specific roles to play to ensure that everybody will have access to safe water finally.\\\\n- To sustain and to take Self-supply to scale there is need for contextualised support as well as long-term engagement, capacity development at all levels, M&E and technical support, reliable funding and learning and sharing.\\\\n- Interministerial cooperation and champions within government agencies are needed to ensure sustainable embedding and for taking Self-supply further, particularly in remote rural areas.\\\\n- There is no-one-size-fits-all solution for supported Self-supply \\\\u2013 for each programme, it needs a contextualized design and follow-up to achieve desired impact.\\\\n- Hygiene promotion, including Household Water Treatment and Safe Storage (HWTS), is highly recommended for any non-piped water supply services, including Self-supply water sources.\\\\n- The huge potential for substantially improving the level of water supply for millions of people in rural areas should be accessed through supported Self-supply. Some countries have endorsed supported Self-supply as service delivery model, such as Zimbabwe or Sierra Leone, and in Ethiopia, Self-supply is now being scaled up at national level.\\\\nMore Information\\\\n\\\\u00bb Review of Self-supply and its support services in African countries: Synthesis Report).\"')]"
      ]
     },
     "execution_count": 3,
     "metadata": {},
     "output_type": "execute_result"
    }
   ],
   "source": [
    "# Display the first 15 entries\n",
    "data[:2]"
   ]
  },
  {
   "cell_type": "markdown",
   "metadata": {},
   "source": [
    "### Split text with RecursiveCharTextSplitter"
   ]
  },
  {
   "cell_type": "code",
   "execution_count": 4,
   "metadata": {},
   "outputs": [],
   "source": [
    "from langchain.text_splitter import RecursiveCharacterTextSplitter\n",
    "from langchain_community.vectorstores.utils import filter_complex_metadata\n",
    "\n",
    "# FIXME Hyperparams\n",
    "# Create an instance of the RecursiveCharacterTextSplitter class with specific parameters.\n",
    "# It splits text into chunks of 1000 characters each with a 150-character overlap\n",
    "text_splitter = RecursiveCharacterTextSplitter(chunk_size=1000, chunk_overlap=150)\n",
    "\n",
    "# FIXME Filter???\n",
    "filtered_data = filter_complex_metadata(data)\n",
    "docs = text_splitter.split_documents(filtered_data)"
   ]
  },
  {
   "cell_type": "markdown",
   "metadata": {},
   "source": [
    "### Embeddings"
   ]
  },
  {
   "cell_type": "code",
   "execution_count": 5,
   "metadata": {},
   "outputs": [
    {
     "name": "stdout",
     "output_type": "stream",
     "text": [
      "WARNING:tensorflow:From c:\\Users\\Quang\\AppData\\Local\\Programs\\Python\\Python311\\Lib\\site-packages\\keras\\src\\losses.py:2976: The name tf.losses.sparse_softmax_cross_entropy is deprecated. Please use tf.compat.v1.losses.sparse_softmax_cross_entropy instead.\n",
      "\n"
     ]
    }
   ],
   "source": [
    "from langchain_huggingface import HuggingFaceEmbeddings\n",
    "\n",
    "# Define the path to the pre-trained model you want to use\n",
    "modelPath = \"sentence-transformers/all-MiniLM-l6-v2\"\n",
    "\n",
    "# Create a dictionary with model configuration options, specifying to use the CPU for computations\n",
    "model_kwargs = {'device':'cpu'}\n",
    "\n",
    "# Create a dictionary with encoding options, specifically setting 'normalize_embeddings' to False\n",
    "encode_kwargs = {'normalize_embeddings': False}\n",
    "\n",
    "# Initialize an instance of HuggingFaceEmbeddings with the specified parameters\n",
    "embeddings = HuggingFaceEmbeddings(\n",
    "    model_name=modelPath,     # Provide the pre-trained model's path\n",
    "    model_kwargs=model_kwargs, # Pass the model configuration options\n",
    "    encode_kwargs=encode_kwargs # Pass the encoding options\n",
    ")"
   ]
  },
  {
   "cell_type": "code",
   "execution_count": 8,
   "metadata": {},
   "outputs": [],
   "source": [
    "for doc in docs:\n",
    "    if doc.page_content is None or doc.metadata is None:\n",
    "        print(\"Invalid document found:\", doc)"
   ]
  },
  {
   "cell_type": "markdown",
   "metadata": {},
   "source": [
    "### Vector Stores"
   ]
  },
  {
   "cell_type": "markdown",
   "metadata": {},
   "source": [
    "##### This takes forever to run."
   ]
  },
  {
   "cell_type": "code",
   "execution_count": 9,
   "metadata": {},
   "outputs": [
    {
     "ename": "",
     "evalue": "",
     "output_type": "error",
     "traceback": [
      "\u001b[1;31mThe Kernel crashed while executing code in the current cell or a previous cell. \n",
      "\u001b[1;31mPlease review the code in the cell(s) to identify a possible cause of the failure. \n",
      "\u001b[1;31mClick <a href='https://aka.ms/vscodeJupyterKernelCrash'>here</a> for more info. \n",
      "\u001b[1;31mView Jupyter <a href='command:jupyter.viewOutput'>log</a> for further details."
     ]
    }
   ],
   "source": [
    "from langchain_chroma import Chroma\n",
    "from langchain.globals import set_debug\n",
    "\n",
    "set_debug(True)\n",
    "db = Chroma.from_documents(docs, embeddings)"
   ]
  }
 ],
 "metadata": {
  "kernelspec": {
   "display_name": "Python 3",
   "language": "python",
   "name": "python3"
  },
  "language_info": {
   "codemirror_mode": {
    "name": "ipython",
    "version": 3
   },
   "file_extension": ".py",
   "mimetype": "text/x-python",
   "name": "python",
   "nbconvert_exporter": "python",
   "pygments_lexer": "ipython3",
   "version": "3.11.5"
  }
 },
 "nbformat": 4,
 "nbformat_minor": 2
}
